{
  "nbformat": 4,
  "nbformat_minor": 0,
  "metadata": {
    "colab": {
      "provenance": [],
      "authorship_tag": "ABX9TyMB+oDLRlPkHA40wJryvCbm",
      "include_colab_link": true
    },
    "kernelspec": {
      "name": "python3",
      "display_name": "Python 3"
    },
    "language_info": {
      "name": "python"
    }
  },
  "cells": [
    {
      "cell_type": "markdown",
      "metadata": {
        "id": "view-in-github",
        "colab_type": "text"
      },
      "source": [
        "<a href=\"https://colab.research.google.com/github/Yernarah63/Python-learning-journal-/blob/main/Conversion_Tools.ipynb\" target=\"_parent\"><img src=\"https://colab.research.google.com/assets/colab-badge.svg\" alt=\"Open In Colab\"/></a>"
      ]
    },
    {
      "cell_type": "code",
      "execution_count": null,
      "metadata": {
        "id": "JTWygVMS0HqG"
      },
      "outputs": [],
      "source": [
        "# Task 1: Kilometer to Mile Conversion\n",
        "\n",
        "# The conversion factor for kilometers to miles is 1 kilometer = 0.621371 miles.\n",
        "\n",
        "# Predefined distance in kilometers (replace this with input() in your local environment)\n",
        "kilometers = 10  # Replace this with input in your local environment\n",
        "\n",
        "# Converting kilometers to miles\n",
        "miles = kilometers * 0.621371\n",
        "\n",
        "# Displaying the result\n",
        "print(f\"{kilometers} kilometers is equal to {miles} miles.\")"
      ]
    },
    {
      "cell_type": "code",
      "source": [
        "kilometers = float(input(\"Enter the distance in kilometers: \"))\n"
      ],
      "metadata": {
        "id": "uLwWpCGs7IuS"
      },
      "execution_count": null,
      "outputs": []
    },
    {
      "cell_type": "code",
      "source": [
        "# Task 2: Celsius to Fahrenheit Conversion\n",
        "\n",
        "# The formula to convert Celsius to Fahrenheit is: F = (C * 9/5) + 32\n",
        "\n",
        "# Predefined Celsius value (replace this with input() in your local environment)\n",
        "celsius = 25  # Replace with float(input(\"Enter the temperature in Celsius: \")) for user input\n",
        "\n",
        "# Converting Celsius to Fahrenheit\n",
        "fahrenheit = (celsius * 9/5) + 32\n",
        "\n",
        "# Displaying the result\n",
        "print(f\"{celsius}°C is equal to {fahrenheit}°F.\")\n"
      ],
      "metadata": {
        "id": "Kkpx573k7pWp"
      },
      "execution_count": null,
      "outputs": []
    },
    {
      "cell_type": "code",
      "source": [
        "celsius = float(input(\"Enter the temperature in Celsius: \"))\n"
      ],
      "metadata": {
        "id": "vbhFWwh07qiJ"
      },
      "execution_count": null,
      "outputs": []
    },
    {
      "cell_type": "code",
      "source": [
        "# Task 3: Binary to Decimal Converter\n",
        "\n",
        "# The binary number to convert\n",
        "binary_str = '101101000'\n",
        "\n",
        "# Converting binary to decimal using int() with base 2\n",
        "decimal_value = int(binary_str, 2)\n",
        "\n",
        "# Displaying the result\n",
        "print(f\"The binary number {binary_str} is equal to {decimal_value} in decimal.\")\n"
      ],
      "metadata": {
        "id": "X8-7ewTV7yQS"
      },
      "execution_count": null,
      "outputs": []
    }
  ]
}